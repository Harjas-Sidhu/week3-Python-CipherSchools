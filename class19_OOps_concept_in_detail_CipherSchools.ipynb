{
  "cells": [
    {
      "cell_type": "markdown",
      "metadata": {
        "colab_type": "text",
        "id": "view-in-github"
      },
      "source": [
        "<a href=\"https://colab.research.google.com/github/githubashmit/Week3-Python-CipherSchools/blob/main/class19_OOps_concept_in_detail_CipherSchools.ipynb\" target=\"_parent\"><img src=\"https://colab.research.google.com/assets/colab-badge.svg\" alt=\"Open In Colab\"/></a>"
      ]
    },
    {
      "cell_type": "markdown",
      "metadata": {
        "id": "125ktL-2SDSd"
      },
      "source": [
        "The  __init__ method\n",
        "Dunders(magic methods)(event methods)\n",
        "__ <name od dunder> __"
      ]
    },
    {
      "cell_type": "code",
      "execution_count": null,
      "metadata": {
        "colab": {
          "base_uri": "https://localhost:8080/"
        },
        "id": "e4LPfYwNT3Q_",
        "outputId": "d1ebd056-ce9f-4004-e0f4-e37f7ae91296"
      },
      "outputs": [
        {
          "data": {
            "text/plain": [
              "function"
            ]
          },
          "execution_count": 11,
          "metadata": {},
          "output_type": "execute_result"
        }
      ],
      "source": [
        "a=5\n",
        "def func():\n",
        "  pass\n",
        "type(func)"
      ]
    },
    {
      "cell_type": "code",
      "execution_count": null,
      "metadata": {
        "colab": {
          "base_uri": "https://localhost:8080/"
        },
        "id": "217HQtWhURFi",
        "outputId": "95e70ea2-439c-484c-820b-b9948e143edd"
      },
      "outputs": [
        {
          "data": {
            "text/plain": [
              "True"
            ]
          },
          "execution_count": 10,
          "metadata": {},
          "output_type": "execute_result"
        }
      ],
      "source": [
        "isinstance(func,object)"
      ]
    },
    {
      "cell_type": "code",
      "execution_count": null,
      "metadata": {
        "colab": {
          "base_uri": "https://localhost:8080/"
        },
        "id": "6khy2KWaTx7_",
        "outputId": "957f2c1d-760b-45bb-d96e-8d9f917a147a"
      },
      "outputs": [
        {
          "data": {
            "text/plain": [
              "type"
            ]
          },
          "execution_count": 12,
          "metadata": {},
          "output_type": "execute_result"
        }
      ],
      "source": [
        "class A:\n",
        "  #pass\n",
        "  name=\"Jatin\"\n",
        "  marks=50\n",
        "type(A)"
      ]
    },
    {
      "cell_type": "code",
      "execution_count": null,
      "metadata": {
        "colab": {
          "base_uri": "https://localhost:8080/"
        },
        "id": "frXgLJgSVAdo",
        "outputId": "c7e6e808-fd35-4398-a25a-0bf166f6b932"
      },
      "outputs": [
        {
          "data": {
            "text/plain": [
              "int"
            ]
          },
          "execution_count": 13,
          "metadata": {},
          "output_type": "execute_result"
        }
      ],
      "source": [
        "A=5\n",
        "type(A)"
      ]
    },
    {
      "cell_type": "code",
      "execution_count": null,
      "metadata": {
        "colab": {
          "base_uri": "https://localhost:8080/"
        },
        "id": "W43MwnMiWsBq",
        "outputId": "e908f776-4d05-4dd5-b435-f73a492c0b8e"
      },
      "outputs": [
        {
          "data": {
            "text/plain": [
              "type"
            ]
          },
          "execution_count": 14,
          "metadata": {},
          "output_type": "execute_result"
        }
      ],
      "source": [
        "type(object)"
      ]
    },
    {
      "cell_type": "code",
      "execution_count": null,
      "metadata": {
        "colab": {
          "base_uri": "https://localhost:8080/"
        },
        "id": "Xq8LmbBmRexn",
        "outputId": "01fe277b-888f-4ff0-c13a-9b52f53391c8"
      },
      "outputs": [
        {
          "data": {
            "text/plain": [
              "object"
            ]
          },
          "execution_count": 4,
          "metadata": {},
          "output_type": "execute_result"
        }
      ],
      "source": [
        "object"
      ]
    },
    {
      "cell_type": "code",
      "execution_count": null,
      "metadata": {
        "id": "1fReKN9vSywT"
      },
      "outputs": [],
      "source": [
        "a=5"
      ]
    },
    {
      "cell_type": "code",
      "execution_count": null,
      "metadata": {
        "colab": {
          "base_uri": "https://localhost:8080/"
        },
        "id": "VRQyILjES2Fs",
        "outputId": "9c2c2a1f-3d3d-4256-d7da-1b47b775deb1"
      },
      "outputs": [
        {
          "data": {
            "text/plain": [
              "True"
            ]
          },
          "execution_count": 5,
          "metadata": {},
          "output_type": "execute_result"
        }
      ],
      "source": [
        "isinstance(a,object)"
      ]
    },
    {
      "cell_type": "code",
      "execution_count": null,
      "metadata": {
        "colab": {
          "base_uri": "https://localhost:8080/"
        },
        "id": "YnXVFjj-TESh",
        "outputId": "8caf3106-224c-46c0-f416-491a8bddb25d"
      },
      "outputs": [
        {
          "data": {
            "text/plain": [
              "type"
            ]
          },
          "execution_count": 6,
          "metadata": {},
          "output_type": "execute_result"
        }
      ],
      "source": [
        "type(int)"
      ]
    },
    {
      "cell_type": "code",
      "execution_count": null,
      "metadata": {
        "colab": {
          "base_uri": "https://localhost:8080/"
        },
        "id": "cf-GxLYtTW0Z",
        "outputId": "9c1093fd-1379-4177-85ba-a49657638eab"
      },
      "outputs": [
        {
          "data": {
            "text/plain": [
              "True"
            ]
          },
          "execution_count": 7,
          "metadata": {},
          "output_type": "execute_result"
        }
      ],
      "source": [
        "isinstance(a,int)"
      ]
    },
    {
      "cell_type": "code",
      "execution_count": null,
      "metadata": {
        "colab": {
          "base_uri": "https://localhost:8080/"
        },
        "id": "1TqlnkO_W4bn",
        "outputId": "69e5cb11-560f-4ef7-bc65-11bc1849fbe8"
      },
      "outputs": [
        {
          "name": "stdout",
          "output_type": "stream",
          "text": [
            "You called me\n"
          ]
        }
      ],
      "source": [
        "class A:\n",
        "  def __call__(self):\n",
        "    print(\"You called me\")\n",
        "a=A()\n",
        "type(a)\n",
        "a()"
      ]
    },
    {
      "cell_type": "code",
      "execution_count": null,
      "metadata": {
        "colab": {
          "base_uri": "https://localhost:8080/"
        },
        "id": "nROR_9gmXMgd",
        "outputId": "e89855b4-80c6-4097-e5d4-dbf80cadb165"
      },
      "outputs": [
        {
          "name": "stdout",
          "output_type": "stream",
          "text": [
            "You called me\n"
          ]
        }
      ],
      "source": [
        "b=A.__call__(A)"
      ]
    },
    {
      "cell_type": "code",
      "execution_count": null,
      "metadata": {
        "id": "A56i3dkSYYjz"
      },
      "outputs": [],
      "source": [
        "class A:\n",
        "  pass\n",
        "b=A.__call__()\n",
        "b=A()"
      ]
    },
    {
      "cell_type": "code",
      "execution_count": null,
      "metadata": {
        "colab": {
          "base_uri": "https://localhost:8080/"
        },
        "id": "cAJcSUZNYsu2",
        "outputId": "9f8500fa-5ebb-4678-dce1-4684d2bb6c8e"
      },
      "outputs": [
        {
          "name": "stdout",
          "output_type": "stream",
          "text": [
            "Hello\n",
            "Hello\n"
          ]
        }
      ],
      "source": [
        "def func():\n",
        "  print(\"Hello\")\n",
        "func.__call__()\n",
        "func()"
      ]
    },
    {
      "cell_type": "code",
      "execution_count": null,
      "metadata": {
        "colab": {
          "base_uri": "https://localhost:8080/"
        },
        "id": "apNA8hg5Y_RF",
        "outputId": "25cac470-5a7f-430a-903b-5e612d67ec5c"
      },
      "outputs": [
        {
          "name": "stdout",
          "output_type": "stream",
          "text": [
            "0\n",
            "1\n",
            "2\n",
            "3\n",
            "4\n"
          ]
        }
      ],
      "source": [
        "for i in range(5):\n",
        "  print(i)"
      ]
    },
    {
      "cell_type": "code",
      "execution_count": null,
      "metadata": {
        "colab": {
          "base_uri": "https://localhost:8080/",
          "height": 36
        },
        "id": "069WJxK4ZW1D",
        "outputId": "f3555f4b-0f8a-44a3-abe9-b1151a94bae4"
      },
      "outputs": [
        {
          "data": {
            "application/vnd.google.colaboratory.intrinsic+json": {
              "type": "string"
            },
            "text/plain": [
              "'Jatin'"
            ]
          },
          "execution_count": 33,
          "metadata": {},
          "output_type": "execute_result"
        }
      ],
      "source": [
        "a={\"name\":\"Jatin\"}\n",
        "a[\"name\"]"
      ]
    },
    {
      "cell_type": "code",
      "execution_count": null,
      "metadata": {
        "colab": {
          "base_uri": "https://localhost:8080/",
          "height": 36
        },
        "id": "HDLGJd3uZiAv",
        "outputId": "406cba01-2355-4e1a-adb0-b1a10e51c97d"
      },
      "outputs": [
        {
          "data": {
            "application/vnd.google.colaboratory.intrinsic+json": {
              "type": "string"
            },
            "text/plain": [
              "'Jatin'"
            ]
          },
          "execution_count": 34,
          "metadata": {},
          "output_type": "execute_result"
        }
      ],
      "source": [
        "a.__getitem__(\"name\")"
      ]
    },
    {
      "cell_type": "code",
      "execution_count": null,
      "metadata": {
        "colab": {
          "base_uri": "https://localhost:8080/"
        },
        "id": "08ySz6zudfj0",
        "outputId": "fced0865-5ca6-4f78-9fe9-539899291c24"
      },
      "outputs": [
        {
          "data": {
            "text/plain": [
              "8"
            ]
          },
          "execution_count": 36,
          "metadata": {},
          "output_type": "execute_result"
        }
      ],
      "source": [
        "class Exponent:\n",
        "  def __init__(self,n):\n",
        "    self.n = n\n",
        "  def __getitem__(self,x):\n",
        "    return x** self.n\n",
        "e=Exponent(3)\n",
        "e[2]"
      ]
    },
    {
      "cell_type": "code",
      "execution_count": null,
      "metadata": {
        "colab": {
          "base_uri": "https://localhost:8080/",
          "height": 36
        },
        "id": "uXZY5ixqd63L",
        "outputId": "38ccf39c-375f-444a-f7be-c38e57ae7444"
      },
      "outputs": [
        {
          "data": {
            "application/vnd.google.colaboratory.intrinsic+json": {
              "type": "string"
            },
            "text/plain": [
              "'Jatin'"
            ]
          },
          "execution_count": 38,
          "metadata": {},
          "output_type": "execute_result"
        }
      ],
      "source": [
        "class A:\n",
        "  name=\"Jatin\"\n",
        "  def __init__(self,n):\n",
        "    self.n = n\n",
        "a=A(2)\n",
        "a.name"
      ]
    },
    {
      "cell_type": "code",
      "execution_count": null,
      "metadata": {
        "colab": {
          "base_uri": "https://localhost:8080/"
        },
        "id": "uhzGxBSVemCo",
        "outputId": "aa23d09b-e32d-4bef-f03a-da262de2a8ea"
      },
      "outputs": [
        {
          "data": {
            "text/plain": [
              "2"
            ]
          },
          "execution_count": 39,
          "metadata": {},
          "output_type": "execute_result"
        }
      ],
      "source": [
        "a.n"
      ]
    },
    {
      "cell_type": "code",
      "execution_count": null,
      "metadata": {
        "colab": {
          "base_uri": "https://localhost:8080/",
          "height": 36
        },
        "id": "51HQ6VRQepQR",
        "outputId": "f50485c2-254a-4b0e-c194-5cda0e32e3e6"
      },
      "outputs": [
        {
          "data": {
            "application/vnd.google.colaboratory.intrinsic+json": {
              "type": "string"
            },
            "text/plain": [
              "'maxx'"
            ]
          },
          "execution_count": 43,
          "metadata": {},
          "output_type": "execute_result"
        }
      ],
      "source": [
        "class Dog:\n",
        "  kind='canine'\n",
        "  def __init__(self,name):\n",
        "    self.name=name\n",
        "a=Dog(\"maxx\")\n",
        "a.name\n"
      ]
    },
    {
      "cell_type": "code",
      "execution_count": null,
      "metadata": {
        "colab": {
          "base_uri": "https://localhost:8080/",
          "height": 36
        },
        "id": "91lzSqyffFB8",
        "outputId": "a64cf8a2-2734-430d-cee9-c19cffc72e62"
      },
      "outputs": [
        {
          "data": {
            "application/vnd.google.colaboratory.intrinsic+json": {
              "type": "string"
            },
            "text/plain": [
              "'canine'"
            ]
          },
          "execution_count": 44,
          "metadata": {},
          "output_type": "execute_result"
        }
      ],
      "source": [
        "a.kind"
      ]
    },
    {
      "cell_type": "code",
      "execution_count": null,
      "metadata": {
        "id": "rDs7GByvfHsp"
      },
      "outputs": [],
      "source": [
        "class Dog:\n",
        "  tricks=[]\n",
        "  def __init__(self,name):\n",
        "    self.name=name\n",
        "  def add_trick(self,trick):\n",
        "    self.tricks.append(trick)"
      ]
    },
    {
      "cell_type": "code",
      "execution_count": null,
      "metadata": {
        "colab": {
          "base_uri": "https://localhost:8080/"
        },
        "id": "aeTeUaTwfsj7",
        "outputId": "0e41bf0d-59dd-4f2a-9086-ef7122596244"
      },
      "outputs": [
        {
          "data": {
            "text/plain": [
              "['fetch',\n",
              " 'fetch',\n",
              " 'talk',\n",
              " 'fetch',\n",
              " 'talk',\n",
              " 'fetch',\n",
              " 'talk',\n",
              " 'fetch',\n",
              " 'talk',\n",
              " 'fetch',\n",
              " 'talk']"
            ]
          },
          "execution_count": 53,
          "metadata": {},
          "output_type": "execute_result"
        }
      ],
      "source": [
        "d1=Dog(\"Maxx\")\n",
        "d1.add_trick(\"fetch\")\n",
        "d1.add_trick(\"talk\")\n",
        "d1.tricks"
      ]
    },
    {
      "cell_type": "code",
      "execution_count": null,
      "metadata": {
        "colab": {
          "base_uri": "https://localhost:8080/"
        },
        "id": "6UqvAVeOgPNP",
        "outputId": "4848cbfb-3e4d-4fdb-99a0-00d4bf7be00b"
      },
      "outputs": [
        {
          "data": {
            "text/plain": [
              "['fetch',\n",
              " 'fetch',\n",
              " 'talk',\n",
              " 'fetch',\n",
              " 'talk',\n",
              " 'fetch',\n",
              " 'talk',\n",
              " 'fetch',\n",
              " 'talk',\n",
              " 'fetch',\n",
              " 'talk']"
            ]
          },
          "execution_count": 54,
          "metadata": {},
          "output_type": "execute_result"
        }
      ],
      "source": [
        "d2=Dog(\"Bella\")\n",
        "d2.tricks"
      ]
    },
    {
      "cell_type": "code",
      "execution_count": null,
      "metadata": {
        "colab": {
          "base_uri": "https://localhost:8080/"
        },
        "id": "PeYdeBGagnZY",
        "outputId": "1b2abd5e-d7eb-4101-853b-55dcbbc89917"
      },
      "outputs": [
        {
          "data": {
            "text/plain": [
              "[1]"
            ]
          },
          "execution_count": 56,
          "metadata": {},
          "output_type": "execute_result"
        }
      ],
      "source": [
        "a=[]\n",
        "b=a\n",
        "b.append(1)\n",
        "a"
      ]
    }
  ],
  "metadata": {
    "colab": {
      "authorship_tag": "ABX9TyPqPXDHxWcwv/dny25IoF80",
      "include_colab_link": true,
      "provenance": []
    },
    "kernelspec": {
      "display_name": "Python 3",
      "name": "python3"
    },
    "language_info": {
      "name": "python"
    }
  },
  "nbformat": 4,
  "nbformat_minor": 0
}
